{
 "cells": [
  {
   "cell_type": "code",
   "execution_count": 1,
   "id": "0e1026b2",
   "metadata": {},
   "outputs": [],
   "source": [
    "from helper_functions import load_data, process_data, train_model, inference,measure_metrics, split_data"
   ]
  },
  {
   "cell_type": "code",
   "execution_count": 2,
   "id": "c5616c34",
   "metadata": {},
   "outputs": [],
   "source": [
    "df = load_data(filepath='data/census.csv')"
   ]
  },
  {
   "cell_type": "code",
   "execution_count": 3,
   "id": "8b4a5d88",
   "metadata": {},
   "outputs": [],
   "source": [
    "train, test = split_data(df)"
   ]
  },
  {
   "cell_type": "code",
   "execution_count": 4,
   "id": "0a5b2d17",
   "metadata": {},
   "outputs": [],
   "source": [
    "X_train, y_train = process_data(train, label=\"salary\")\n",
    "X_train, y_train, encoder, scaler, model = train_model(X_train, y_train)"
   ]
  },
  {
   "cell_type": "code",
   "execution_count": 5,
   "id": "fdc050b9",
   "metadata": {},
   "outputs": [],
   "source": [
    "X_test, y_test = process_data(test, label=\"salary\")\n",
    "y_pred = inference(model, X_test, encoder, scaler)"
   ]
  },
  {
   "cell_type": "code",
   "execution_count": 6,
   "id": "771adb12",
   "metadata": {},
   "outputs": [
    {
     "data": {
      "text/plain": [
       "0.8541378780899739"
      ]
     },
     "execution_count": 6,
     "metadata": {},
     "output_type": "execute_result"
    }
   ],
   "source": [
    "measure_metrics(y_test, y_pred)"
   ]
  },
  {
   "cell_type": "code",
   "execution_count": null,
   "id": "d125f9c8",
   "metadata": {},
   "outputs": [],
   "source": []
  }
 ],
 "metadata": {
  "kernelspec": {
   "display_name": "Python [conda env:mlopsdeploy] *",
   "language": "python",
   "name": "conda-env-mlopsdeploy-py"
  },
  "language_info": {
   "codemirror_mode": {
    "name": "ipython",
    "version": 3
   },
   "file_extension": ".py",
   "mimetype": "text/x-python",
   "name": "python",
   "nbconvert_exporter": "python",
   "pygments_lexer": "ipython3",
   "version": "3.8.15"
  }
 },
 "nbformat": 4,
 "nbformat_minor": 5
}
